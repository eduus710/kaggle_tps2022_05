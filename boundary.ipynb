{
 "cells": [
  {
   "cell_type": "markdown",
   "id": "4e0a37a7-ec8c-4579-9c6f-6f1c1c942ec2",
   "metadata": {},
   "source": [
    "# Tabular Playground Series - May 2022: Feature Boundary\n",
    "\n",
    "- https://www.kaggle.com/code/ambrosm/tpsmay22-eda-which-makes-sense\n",
    "- https://www.kaggle.com/code/wti200/analysing-interactions-with-shap\n",
    "\n",
    "I was interested in investigating the difference in performance between\n",
    "a pre-determined feature boundary:\n"
   ]
  },
  {
   "cell_type": "code",
   "execution_count": null,
   "id": "8d62c8a4-ce66-4109-b9c1-5072d429f9bc",
   "metadata": {},
   "outputs": [],
   "source": [
    "from pathlib import Path\n",
    "from warnings import simplefilter\n",
    "\n",
    "import numpy as np\n",
    "import pandas as pd\n",
    "import matplotlib.pyplot as plt\n",
    "import seaborn as sns\n",
    "\n",
    "from xgboost import XGBClassifier\n",
    "from sklearn.model_selection import train_test_split\n",
    "\n",
    "simplefilter(\"ignore\")\n",
    "input_dir = Path('input')\n",
    "\n",
    "RANDOM_STATE=42"
   ]
  },
  {
   "cell_type": "markdown",
   "id": "17a58a8f-7021-4096-813f-c0e0beb011c0",
   "metadata": {},
   "source": [
    "### Load training data"
   ]
  },
  {
   "cell_type": "code",
   "execution_count": null,
   "id": "afec2534-52bd-4fcc-98b9-9ddef7a8b646",
   "metadata": {},
   "outputs": [],
   "source": [
    "train = pd.read_csv(input_dir / 'train.csv')\n",
    "train = train.set_index('id').sort_index()\n",
    "test = pd.read_csv(input_dir / 'test.csv')\n",
    "test = test.set_index('id').sort_index()\n",
    "display(train.head(2))"
   ]
  },
  {
   "cell_type": "markdown",
   "id": "7d9d4ba9-8201-4ee1-b201-78233d9057a9",
   "metadata": {},
   "source": [
    "#### Make features\n",
    "\n",
    "f_27 features and interaction features borrowed from https://www.kaggle.com/code/ambrosm/tpsmay22-eda-which-makes-sense"
   ]
  },
  {
   "cell_type": "code",
   "execution_count": null,
   "id": "704496e7-eef8-4df8-ba6e-529ab02b6b77",
   "metadata": {},
   "outputs": [],
   "source": [
    "def make_features(X_in, boundaries=True):\n",
    "    \"\"\"\n",
    "    generate features for incoming dataframe\n",
    "    \n",
    "    boundaries: specifies whether interaction features incorporate explicit boundaries\n",
    "    \n",
    "    returns: dataframe with features\n",
    "    \"\"\"\n",
    "    \n",
    "    # start with float and int features\n",
    "    X = X_in.select_dtypes(['float64','int64'])\n",
    " \n",
    "    # manufacture features from f_27:\n",
    "    # - feature for each character position, with ordinal-encoding (10 features)\n",
    "    # - feature with total number of distinct characters\n",
    "    for i in range(10):\n",
    "        X[f\"f_27_{i}\"] = X_in[\"f_27\"].str[i].apply(ord) - ord(\"A\")\n",
    "        X[\"f_27_count\"] =  X_in[\"f_27\"].apply(lambda s: len(set(s)))\n",
    "        \n",
    "    # interaction features:\n",
    "    # if boundaries==True, create 3 ternary features based on explicit boundaries\n",
    "    if boundaries: \n",
    "        X[\"f_21_f_02\"] = (X.f_02 + X.f_21 > 5.2).astype('int') - (X.f_02 + X.f_21 < -5.3).astype('int')\n",
    "        X[\"f_26_f_00_f_01\"] = (X.f_01 + X.f_00 + X.f_26 > 5.0).astype('int') - (X.f_01 + X.f_00 + X.f_26 < -5.0).astype('int')\n",
    "        X[\"f_22_f_05\"] =( X.f_22 + X.f_05 > 5.1).astype('int') - (X.f_22 + X.f_05 < -5.4).astype('int')\n",
    "    else:\n",
    "        X[\"f_21_f_02\"] = X.f_02 + X.f_21 \n",
    "        X[\"f_26_f_00_f_01\"] = X.f_01 + X.f_00 + X.f_26\n",
    "        X[\"f_22_f_05\"] = X.f_22 + X.f_05\n",
    "\n",
    "    return X"
   ]
  },
  {
   "cell_type": "code",
   "execution_count": null,
   "id": "14acd4ea-bc31-4ed5-9c9b-d4d3e1538c15",
   "metadata": {},
   "outputs": [],
   "source": [
    "def make_xgb(random_state=RANDOM_STATE):\n",
    "    \"\"\"\n",
    "    instantiate XGB with GPU\n",
    "    \"\"\"\n",
    "    \n",
    "    return XGBClassifier(n_estimators=500,\n",
    "                         objective='binary:logistic',\n",
    "                         eval_metric='auc',\n",
    "                         random_state=random_state,\n",
    "                         #tree_method='gpu_hist')\n",
    "                         n_jobs=4\n",
    "                        )"
   ]
  },
  {
   "cell_type": "code",
   "execution_count": null,
   "id": "ba89d8db-e9af-4cec-b11b-a105daf747f7",
   "metadata": {},
   "outputs": [],
   "source": [
    "from sklearn.model_selection import cross_val_score\n",
    "from sklearn.model_selection import StratifiedKFold\n",
    "from sklearn.metrics import roc_auc_score\n",
    "\n",
    "y = train.target\n",
    "X = make_features(train.drop(columns=['target']), boundaries=True)   \n",
    "\n",
    "skf = StratifiedKFold(n_splits=3)\n",
    "scores1 = cross_val_score(make_xgb(), X, y, cv=skf, scoring=\"roc_auc\", verbose=2)\n",
    "\n",
    "X = make_features(train.drop(columns=['target']), boundaries=False)   \n",
    "scores2 = cross_val_score(make_xgb(), X, y, cv=skf, scoring=\"roc_auc\", verbose=2)\n"
   ]
  },
  {
   "cell_type": "code",
   "execution_count": null,
   "id": "1dfe770e-9cbb-4a03-886a-dae867f5bb42",
   "metadata": {},
   "outputs": [],
   "source": [
    "print(np.mean(scores1))\n",
    "print(np.mean(scores2))"
   ]
  },
  {
   "cell_type": "code",
   "execution_count": null,
   "id": "a3526210-b2da-4d9c-ba0c-afa1550feea0",
   "metadata": {},
   "outputs": [],
   "source": []
  }
 ],
 "metadata": {
  "kernelspec": {
   "display_name": "Python 3 (ipykernel)",
   "language": "python",
   "name": "python3"
  },
  "language_info": {
   "codemirror_mode": {
    "name": "ipython",
    "version": 3
   },
   "file_extension": ".py",
   "mimetype": "text/x-python",
   "name": "python",
   "nbconvert_exporter": "python",
   "pygments_lexer": "ipython3",
   "version": "3.9.12"
  }
 },
 "nbformat": 4,
 "nbformat_minor": 5
}
